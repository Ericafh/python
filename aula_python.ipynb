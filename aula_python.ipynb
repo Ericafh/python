{
  "nbformat": 4,
  "nbformat_minor": 0,
  "metadata": {
    "colab": {
      "provenance": [],
      "authorship_tag": "ABX9TyNFP/qDHP0E7k4pTORF1wU5",
      "include_colab_link": true
    },
    "kernelspec": {
      "name": "python3",
      "display_name": "Python 3"
    },
    "language_info": {
      "name": "python"
    }
  },
  "cells": [
    {
      "cell_type": "markdown",
      "metadata": {
        "id": "view-in-github",
        "colab_type": "text"
      },
      "source": [
        "<a href=\"https://colab.research.google.com/github/Ericafh/python/blob/main/aula_python.ipynb\" target=\"_parent\"><img src=\"https://colab.research.google.com/assets/colab-badge.svg\" alt=\"Open In Colab\"/></a>"
      ]
    },
    {
      "cell_type": "markdown",
      "source": [
        "#**Aula 1** ⏰ ✅ ⛱ 🩵"
      ],
      "metadata": {
        "id": "3BiQVNX9yzpG"
      }
    },
    {
      "cell_type": "code",
      "source": [
        "print(\"I competição de programação dá Start\")\n",
        "ano = \"II\"\n",
        "print(ano, \"competição de programação da Start\")\n",
        "print(f\"{ano} competição de programação da Start\")"
      ],
      "metadata": {
        "colab": {
          "base_uri": "https://localhost:8080/"
        },
        "id": "O6fIwWGfz5uU",
        "outputId": "c35bda58-1dfd-4ee6-9338-f2359c6d4ba5"
      },
      "execution_count": null,
      "outputs": [
        {
          "output_type": "stream",
          "name": "stdout",
          "text": [
            "I competição de programação dá Start\n",
            "II competição de programação da Start\n",
            "II competição de programação da Start\n"
          ]
        }
      ]
    },
    {
      "cell_type": "markdown",
      "source": [
        "#**Aula 2** 🥰 ⭐ 🥇 💙"
      ],
      "metadata": {
        "id": "w_iHE86403lm"
      }
    },
    {
      "cell_type": "code",
      "source": [
        "livro_ficcao = 8\n",
        "livro_n_ficcao = 10\n",
        "livro_infantil = 6\n",
        "pontos_rodrigo = livro_ficcao + livro_n_ficcao + livro_infantil\n",
        "print(f\"Os pontos totais do Rodrigo são {pontos_rodrigo}\")"
      ],
      "metadata": {
        "colab": {
          "base_uri": "https://localhost:8080/"
        },
        "id": "Qs6dq9Zl05lx",
        "outputId": "60185e12-7108-48f1-c88f-8395267b39a2"
      },
      "execution_count": null,
      "outputs": [
        {
          "output_type": "stream",
          "name": "stdout",
          "text": [
            "Os pontos totais do Rodrigo são 24\n"
          ]
        }
      ]
    },
    {
      "cell_type": "markdown",
      "source": [
        "#**Aula 3** 🖤 ✨ 🐕 🇪"
      ],
      "metadata": {
        "id": "NeiQrqNluc6g"
      }
    },
    {
      "cell_type": "code",
      "source": [
        "numero_de_alunos = int(input(\"Digite a quantidade de alunos: \"))\n",
        "numero_de_monitores = int(input(\"Digite a quantidade de monitores: \"))\n",
        "numero_de_professores = 8\n",
        "if numero_de_alunos + numero_de_monitores + numero_de_professores <= 50:\n",
        "  resposta_positiva = \"pode ir\"\n",
        "resposta_negativa = \"não pode ir\"\n",
        "if numero_de_alunos + numero_de_monitores + numero_de_professores <= 50:\n",
        " print(resposta_positiva)\n",
        "else:\n",
        " print(resposta_negativa)"
      ],
      "metadata": {
        "colab": {
          "base_uri": "https://localhost:8080/"
        },
        "id": "ayd8oXRjwSED",
        "outputId": "95eb4618-c5fb-4161-e9d8-3d09e59f6c02"
      },
      "execution_count": null,
      "outputs": [
        {
          "output_type": "stream",
          "name": "stdout",
          "text": [
            "Digite a quantidade de alunos: 19\n",
            "Digite a quantidade de monitores: 17\n",
            "pode ir\n"
          ]
        }
      ]
    },
    {
      "cell_type": "markdown",
      "source": [
        "#**Aula 4** 🖤 🤠 🍸 🐎"
      ],
      "metadata": {
        "id": "1u455XhwzBPn"
      }
    },
    {
      "cell_type": "code",
      "source": [
        "P = int(input(\"Digite a posição da porta P (0 ou 1): \"))\n",
        "R = int(input(\"Digite a posição da porta R (0 ou 1): \"))\n",
        "if P == 0:\n",
        "    print(\"C\")\n",
        "elif R == 1:\n",
        "    print(\"A\")\n",
        "else:\n",
        "    print(\"B\")"
      ],
      "metadata": {
        "id": "WW7oJ34q0_5o",
        "colab": {
          "base_uri": "https://localhost:8080/"
        },
        "outputId": "da53c7a9-43fc-4529-d04c-03ad5355b48a"
      },
      "execution_count": null,
      "outputs": [
        {
          "output_type": "stream",
          "name": "stdout",
          "text": [
            "Digite a posição da porta P (0 ou 1): 1\n",
            "Digite a posição da porta R (0 ou 1): 0\n",
            "B\n"
          ]
        }
      ]
    },
    {
      "cell_type": "markdown",
      "source": [
        "#**Aula 5** ⛄ 🌵 💐 🤍  tabuada"
      ],
      "metadata": {
        "id": "bYDpWiW261LL"
      }
    },
    {
      "cell_type": "code",
      "source": [
        "def tabuada(numero):\n",
        "    for contador in range(1, 11):  # Gera números de 1 a 10\n",
        "        print(f\"{numero} x {contador} = {numero * contador}\")\n",
        "numero = int(input(\"Digite um número para ver sua tabuada: \"))\n",
        "tabuada(numero)"
      ],
      "metadata": {
        "id": "ZgoKpDyx7l7j",
        "colab": {
          "base_uri": "https://localhost:8080/"
        },
        "outputId": "3d0b24d3-f86a-4f9d-faf6-abbe74c57c4d"
      },
      "execution_count": null,
      "outputs": [
        {
          "output_type": "stream",
          "name": "stdout",
          "text": [
            "Digite um número para ver sua tabuada: 20\n",
            "20 x 1 = 20\n",
            "20 x 2 = 40\n",
            "20 x 3 = 60\n",
            "20 x 4 = 80\n",
            "20 x 5 = 100\n",
            "20 x 6 = 120\n",
            "20 x 7 = 140\n",
            "20 x 8 = 160\n",
            "20 x 9 = 180\n",
            "20 x 10 = 200\n"
          ]
        }
      ]
    },
    {
      "cell_type": "markdown",
      "source": [
        "#**Aula 6** ⛴ ⛺ ⛲ ⏳\n"
      ],
      "metadata": {
        "id": "5a2T6dOt-fRf"
      }
    },
    {
      "cell_type": "code",
      "source": [
        "peso = float(input(\"Digite seu peso (em kg): \"))\n",
        "altura = float(input(\"Digite sua altura (em metros): \"))\n",
        "imc = peso / (altura ** 2)\n",
        "print(f\"\\nSeu IMC é: {imc:.2f}\")\n",
        "if imc < 18.5:\n",
        "    print(\"Você está abaixo do peso.\")\n",
        "elif 18.5 <= imc < 25:\n",
        "    print(\"Você está no peso ideal.\")\n",
        "elif 25 <= imc < 30:\n",
        "    print(\"Você está com sobrepeso.\")\n",
        "else:\n",
        "    print(\"Você está acima do peso.\")"
      ],
      "metadata": {
        "colab": {
          "base_uri": "https://localhost:8080/"
        },
        "id": "ulc1k0mJ-itu",
        "outputId": "b7816f3c-257c-4665-af1a-ad63d26fad2f"
      },
      "execution_count": null,
      "outputs": [
        {
          "output_type": "stream",
          "name": "stdout",
          "text": [
            "Digite seu peso (em kg): 70\n",
            "Digite sua altura (em metros): 1.70\n",
            "\n",
            "Seu IMC é: 24.22\n",
            "Você está no peso ideal.\n"
          ]
        }
      ]
    },
    {
      "cell_type": "markdown",
      "source": [
        "#**Aula 7** ⏰ ⛸ 🍪 🍩"
      ],
      "metadata": {
        "id": "mzhNMB1O-qy-"
      }
    },
    {
      "cell_type": "code",
      "source": [
        "print(\"Sou seu assistente virtual, como posso ajudar? \\n\")\n",
        "nome = input (\"Digite seu nome: \")\n",
        "print(\"Olá, \"+nome+\". Qual é sua dúvida hoje?\")"
      ],
      "metadata": {
        "colab": {
          "base_uri": "https://localhost:8080/"
        },
        "id": "Ga_3mBKr-uEW",
        "outputId": "ea8524d7-7cb1-4b4e-de46-d0e7ae7f3b0d"
      },
      "execution_count": null,
      "outputs": [
        {
          "output_type": "stream",
          "name": "stdout",
          "text": [
            "Sou seu assistente virtual, como posso ajudar? \n",
            "\n",
            "Digite seu nome: erica\n",
            "Olá, erica. Qual é sua dúvida hoje?\n"
          ]
        }
      ]
    },
    {
      "cell_type": "code",
      "source": [
        "print(\"Sou seu assistente virtual, como posso ajudar? \\n\")\n",
        "nome = input (\"Digite seu nome: \")\n",
        "print(f\"Olá, {nome}. Qual é sua dúvida hoje?\")\n",
        "resposta = input(\"Qual o assunto que deseja tratar: Matemática, Pyton, Javascript: \").lower()\n",
        "if resposta == \"pyton\":\n",
        "  print(f\"Que bom, {nome}, vamos falar sobre Pyton. É uma linguagem de programação de alto nível, conhecida por sua simplicidade e versatilidade.\")\n",
        "elif resposta == \"javascript\":\n",
        "  print(f\"Que bom, {nome}, vamos falar sobre Javascript. É uma linguagem de programação usada principalmente para criar interatividade em páginas web.\")\n",
        "elif resposta == \"matematica\":\n",
        "  print(f\"Que bom, {nome}, vamos falar sobre Matemática. É a ciência que estuda números, formas, padrões e relações lógicas.\")\n",
        "else:\n",
        "  print(\"Desculpa, não sei tratar sobre este assunto\")"
      ],
      "metadata": {
        "colab": {
          "base_uri": "https://localhost:8080/"
        },
        "id": "M0_sd1F9_kv5",
        "outputId": "ba6f933a-83d5-428f-d069-264b14434638"
      },
      "execution_count": null,
      "outputs": [
        {
          "output_type": "stream",
          "name": "stdout",
          "text": [
            "Sou seu assistente virtual, como posso ajudar? \n",
            "\n",
            "Digite seu nome: erica\n",
            "Olá, erica. Qual é sua dúvida hoje?\n",
            "Qual o assunto que deseja tratar: Matemática, Pyton, Javascript: historia\n",
            "Desculpa, não sei tratar sobre este assunto\n"
          ]
        }
      ]
    },
    {
      "cell_type": "markdown",
      "source": [
        "#**Aula 8** 🐕 🐈 🐮 🐴"
      ],
      "metadata": {
        "id": "U5zWsUtsCICx"
      }
    },
    {
      "cell_type": "code",
      "source": [],
      "metadata": {
        "id": "9peWZIKpDMsH"
      },
      "execution_count": null,
      "outputs": []
    }
  ]
}